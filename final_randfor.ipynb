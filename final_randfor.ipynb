{
  "nbformat": 4,
  "nbformat_minor": 0,
  "metadata": {
    "colab": {
      "provenance": []
    },
    "kernelspec": {
      "name": "python3",
      "display_name": "Python 3"
    },
    "language_info": {
      "name": "python"
    }
  },
  "cells": [
    {
      "cell_type": "code",
      "execution_count": 31,
      "metadata": {
        "id": "7wS3rBDh63N9"
      },
      "outputs": [],
      "source": [
        "import pandas as pd\n",
        "import numpy as np\n",
        "import matplotlib.pyplot as plt\n",
        "from sklearn.metrics import make_scorer, r2_score\n",
        "from sklearn.model_selection import cross_val_predict\n",
        "from sklearn.metrics import r2_score\n",
        "from sklearn.metrics import mean_squared_error\n",
        "from sklearn.ensemble import RandomForestRegressor\n",
        "from sklearn.preprocessing import StandardScaler\n",
        "from sklearn.model_selection import cross_val_score\n",
        "\n",
        "import warnings\n",
        "warnings.filterwarnings('ignore')"
      ]
    },
    {
      "cell_type": "code",
      "source": [
        "#handeling null data and droping non neccesary data columns\n",
        "\n",
        "df = pd.read_csv(\"/content/Train.csv\")\n",
        "df['Outlet_Size'] = ['Unknown' if pd.isna(value) else value for value in df['Outlet_Size']]\n",
        "df_weights = df['Item_Weight'].mean()\n",
        "df['Item_Weight'].fillna(df_weights, inplace=True)\n",
        "df= df.drop(labels=['Item_Identifier','Outlet_Identifier'] ,axis = 1 )\n",
        "\n",
        "\n",
        "\n",
        "\n",
        "df['Item_Fat_Content']=['Low Fat'if item ==\"LF\" else item for item in df['Item_Fat_Content']]\n",
        "df['Item_Fat_Content']=['Low Fat'if item ==\"low fat\" else item for item in df['Item_Fat_Content']]\n",
        "df['Item_Fat_Content']=['Regular'if item ==\"reg\" else item for item in df['Item_Fat_Content']]\n",
        "#categorical 2 numerical\n",
        "categorical_columns = ['Item_Fat_Content','Outlet_Size','Item_Type','Outlet_Location_Type','Outlet_Type']\n",
        "\n",
        "\n",
        "one_hot_encoded = pd.get_dummies(df[categorical_columns], columns=categorical_columns, prefix=categorical_columns)\n",
        "\n",
        "\n",
        "# Concatenate the one-hot encoded columns with the original DataFrame\n",
        "df_encoded = pd.concat([df, one_hot_encoded], axis=1)\n",
        "\n",
        "# Drop the original categorical column if desired\n",
        "df_encoded = df_encoded.drop(['Item_Fat_Content','Outlet_Size','Item_Type','Outlet_Location_Type','Outlet_Type'], axis=1)\n",
        "\n",
        "# Now df_encoded contains your data with one-hot encoded columns\n",
        "\n",
        "\n",
        "#Standardization\n",
        "numerical_columns = [ 'Item_Weight','Item_Visibility','Item_MRP','Outlet_Establishment_Year','Item_Outlet_Sales']\n",
        "scaler = StandardScaler()\n",
        "\n",
        "df_encoded[numerical_columns] = scaler.fit_transform(df_encoded[numerical_columns])\n",
        "\n",
        "print(df_encoded.head())\n"
      ],
      "metadata": {
        "colab": {
          "base_uri": "https://localhost:8080/",
          "height": 1000
        },
        "id": "KlxJLiNm8CRZ",
        "outputId": "ac77f188-c119-47db-e6a0-9adce9d3e35d"
      },
      "execution_count": 19,
      "outputs": [
        {
          "output_type": "stream",
          "name": "stdout",
          "text": [
            "   Item_Weight  Item_Visibility  Item_MRP  Outlet_Establishment_Year  \\\n",
            "0    -0.841872        -0.970732  1.747454                   0.139541   \n",
            "1    -1.641706        -0.908111 -1.489023                   1.334103   \n",
            "2     1.098554        -0.956917  0.010040                   0.139541   \n",
            "3     1.500838        -1.281758  0.660050                   0.020085   \n",
            "4    -0.929428        -1.281758 -1.399220                  -1.293934   \n",
            "\n",
            "   Item_Outlet_Sales  Item_Fat_Content_Low Fat  Item_Fat_Content_Regular  \\\n",
            "0           0.910601                         1                         0   \n",
            "1          -1.018440                         0                         1   \n",
            "2          -0.049238                         1                         0   \n",
            "3          -0.849103                         0                         1   \n",
            "4          -0.695373                         1                         0   \n",
            "\n",
            "   Outlet_Size_High  Outlet_Size_Medium  Outlet_Size_Small  ...  \\\n",
            "0                 0                   1                  0  ...   \n",
            "1                 0                   1                  0  ...   \n",
            "2                 0                   1                  0  ...   \n",
            "3                 0                   0                  0  ...   \n",
            "4                 1                   0                  0  ...   \n",
            "\n",
            "   Item_Type_Snack Foods  Item_Type_Soft Drinks  Item_Type_Starchy Foods  \\\n",
            "0                      0                      0                        0   \n",
            "1                      0                      1                        0   \n",
            "2                      0                      0                        0   \n",
            "3                      0                      0                        0   \n",
            "4                      0                      0                        0   \n",
            "\n",
            "   Outlet_Location_Type_Tier 1  Outlet_Location_Type_Tier 2  \\\n",
            "0                            1                            0   \n",
            "1                            0                            0   \n",
            "2                            1                            0   \n",
            "3                            0                            0   \n",
            "4                            0                            0   \n",
            "\n",
            "   Outlet_Location_Type_Tier 3  Outlet_Type_Grocery Store  \\\n",
            "0                            0                          0   \n",
            "1                            1                          0   \n",
            "2                            0                          0   \n",
            "3                            1                          1   \n",
            "4                            1                          0   \n",
            "\n",
            "   Outlet_Type_Supermarket Type1  Outlet_Type_Supermarket Type2  \\\n",
            "0                              1                              0   \n",
            "1                              0                              1   \n",
            "2                              1                              0   \n",
            "3                              0                              0   \n",
            "4                              1                              0   \n",
            "\n",
            "   Outlet_Type_Supermarket Type3  \n",
            "0                              0  \n",
            "1                              0  \n",
            "2                              0  \n",
            "3                              0  \n",
            "4                              0  \n",
            "\n",
            "[5 rows x 34 columns]\n"
          ]
        },
        {
          "output_type": "execute_result",
          "data": {
            "text/plain": [
              "\"\\nnew_df = pd.get_dummies(df)\\n\\n#  sending item outlet sales into the end of dataset\\n\\n# Replace 'column_name' with the name of the column you want to move\\ncolumn_name = 'Item_Outlet_Sales'\\n\\n# Pop the column from its current position\\ncolumn_to_move = new_df.pop(column_name)\\n\\n# Add the popped column back to the DataFrame at the end\\nnew_df[column_name] = column_to_move\\n\\n\\nheader_names = new_df.columns\\nnew_df\\n\\n\\n\""
            ],
            "application/vnd.google.colaboratory.intrinsic+json": {
              "type": "string"
            }
          },
          "metadata": {},
          "execution_count": 19
        }
      ]
    },
    {
      "cell_type": "code",
      "source": [
        "#cross val\n",
        "\n",
        "\n",
        "features = df_encoded.drop('Item_Outlet_Sales',axis = 1)\n",
        "target = df_encoded['Item_Outlet_Sales']\n",
        "\n",
        "\n",
        "#Random forest\n",
        "\n",
        "regressor = RandomForestRegressor(n_estimators=100, random_state=42)\n",
        "cv_scores= cross_val_score(regressor , features , target ,cv = 5 ,scoring='neg_mean_squared_error')*-1\n",
        "mean_cv_score = cv_scores.mean()\n",
        "std_cv_score = cv_scores.std()\n",
        "y_pred = cross_val_predict(regressor, features, target, cv=5)\n",
        "print(\"Mean CV Score:\", mean_cv_score)\n",
        "print(\"Std CV Score:\", std_cv_score)\n",
        "\n",
        "squared_errors = (y_pred - target) ** 2\n",
        "mse = np.mean(squared_errors)\n",
        "rmse = np.sqrt(mse)\n",
        "print ('the RMSE is :',rmse)\n",
        "\n",
        "#r2\n",
        "# Perform cross-validation (using 5-fold cross-validation as an example)\n",
        "cv_scores = cross_val_score(regressor, features, target, cv=5, scoring='r2')\n",
        "\n",
        "# Calculate the mean and standard deviation of the R-squared scores\n",
        "mean_r2_score = cv_scores.mean()\n",
        "std_r2_score = cv_scores.std()\n",
        "\n",
        "print(\"Mean R-squared Score:\", mean_r2_score)\n",
        "print(\"Std R-squared Score:\", std_r2_score)"
      ],
      "metadata": {
        "colab": {
          "base_uri": "https://localhost:8080/"
        },
        "id": "2Op5UVjIAVBc",
        "outputId": "741f4fbe-5dc7-4d9a-bc59-b55db482d587"
      },
      "execution_count": 32,
      "outputs": [
        {
          "output_type": "stream",
          "name": "stdout",
          "text": [
            "Mean CV Score: 0.4461578928214391\n",
            "Std CV Score: 0.0036126207087612823\n",
            "the RMSE is : 0.6679509665480302\n",
            "Mean R-squared Score: 0.5529732539614282\n",
            "Std R-squared Score: 0.01820340941490148\n"
          ]
        }
      ]
    },
    {
      "cell_type": "code",
      "source": [],
      "metadata": {
        "id": "Jq2DB-KOF3R_"
      },
      "execution_count": null,
      "outputs": []
    }
  ]
}